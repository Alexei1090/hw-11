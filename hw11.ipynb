{
 "cells": [
  {
   "cell_type": "markdown",
   "id": "e686bd01",
   "metadata": {},
   "source": [
    "f(x) = x2 - 6*abs(x) + 8\n",
    "Определить корни\n",
    "\n",
    "Найти интервалы, на которых функция возрастает\n",
    "\n",
    "Найти интервалы, на которых функция убывает\n",
    "\n",
    "Построить график\n",
    "\n",
    "Вычислить вершину\n",
    "\n",
    "Определить промежутки, на котором f > 0\n",
    "\n",
    "Определить промежутки, на котором f < 0"
   ]
  },
  {
   "cell_type": "code",
   "execution_count": 1,
   "id": "4c3f9115",
   "metadata": {},
   "outputs": [
    {
     "data": {
      "text/plain": [
       "[-4, -2, 2, 4]"
      ]
     },
     "execution_count": 1,
     "metadata": {},
     "output_type": "execute_result"
    }
   ],
   "source": [
    "from sympy import *\n",
    "x = Symbol('x', real = True)\n",
    "f = x**2 - 6*abs(x) + 8\n",
    "solve(f,x)# корни\n"
   ]
  },
  {
   "cell_type": "code",
   "execution_count": 2,
   "id": "7138b4bd",
   "metadata": {},
   "outputs": [
    {
     "data": {
      "image/png": "[encoded data removed]",
      "text/plain": [
       "<Figure size 432x288 with 1 Axes>"
      ]
     },
     "metadata": {
      "needs_background": "light"
     },
     "output_type": "display_data"
    },
    {
     "data": {
      "text/plain": [
       "<sympy.plotting.plot.Plot at 0x25a64717220>"
      ]
     },
     "execution_count": 2,
     "metadata": {},
     "output_type": "execute_result"
    }
   ],
   "source": [
    "plot(f, (x,-10,10))#график"
   ]
  },
  {
   "cell_type": "code",
   "execution_count": 3,
   "id": "206cea4f",
   "metadata": {},
   "outputs": [
    {
     "name": "stdout",
     "output_type": "stream",
     "text": [
      "функция убывает на промежутке Interval(-10, -3)\n",
      "функция возрастает на промежутке Interval(-3, 0)\n",
      "функция убывает на промежутке Interval(0, 3)\n",
      "функция возрастает на промежутке Interval(3, 10)\n"
     ]
    }
   ],
   "source": [
    "f1 = x**2 - 6*(-x) + 8# определение возрастания и убывания функуии\n",
    "f2 = x**2 - 6*x + 8\n",
    "dir = diff(f1)\n",
    "dir2 = diff(f2)\n",
    "roots = solve(dir)\n",
    "roots2 = solve(dir2)\n",
    "\n",
    "if len(roots) == 1:\n",
    "    root = roots.pop()\n",
    "    if is_increasing(f1,Interval(-10,root)):\n",
    "        print(f'функция возрастает на промежутке {Interval(-10,root)}')\n",
    "    else:\n",
    "        print(f'функция убывает на промежутке {Interval(-10,root)}')\n",
    "    if is_decreasing(f1,Interval(root,0)):\n",
    "        print(f'функция убывает на промежутке {Interval(root,0)}')\n",
    "    else:\n",
    "        print(f'функция возрастает на промежутке {Interval(root,0)}')\n",
    "\n",
    "if len(roots2) == 1:\n",
    "    root2 = roots2.pop()\n",
    "    if is_increasing(f2,Interval(0,root2)):\n",
    "        print(f'функция возрастает на промежутке {Interval(0,root2)}')\n",
    "    else:\n",
    "        print(f'функция убывает на промежутке {Interval(0,root2)}')\n",
    "    if is_decreasing(f2,Interval(root2,10)):\n",
    "        print(f'функция убывает на промежутке {Interval(root2,10)}')\n",
    "    else:\n",
    "        print(f'функция возрастает на промежутке {Interval(root2,10)}')"
   ]
  },
  {
   "cell_type": "code",
   "execution_count": 4,
   "id": "8d74b4b0",
   "metadata": {},
   "outputs": [
    {
     "data": {
      "text/plain": [
       "[-3]"
      ]
     },
     "execution_count": 4,
     "metadata": {},
     "output_type": "execute_result"
    }
   ],
   "source": [
    "v1 = diff(f1)#Вершина\n",
    "solve(v1)\n"
   ]
  },
  {
   "cell_type": "code",
   "execution_count": 5,
   "id": "2cb56bd8",
   "metadata": {},
   "outputs": [
    {
     "data": {
      "text/plain": [
       "[3]"
      ]
     },
     "execution_count": 5,
     "metadata": {},
     "output_type": "execute_result"
    }
   ],
   "source": [
    "v2 = diff(f2)#Вершина\n",
    "solve(v2)"
   ]
  },
  {
   "cell_type": "code",
   "execution_count": 7,
   "id": "657b875a",
   "metadata": {},
   "outputs": [
    {
     "data": {
      "text/latex": [
       "$\\displaystyle 8.0$"
      ],
      "text/plain": [
       "8.00000000000000"
      ]
     },
     "execution_count": 7,
     "metadata": {},
     "output_type": "execute_result"
    }
   ],
   "source": [
    "f.evalf(subs={x:0})# точка перелома"
   ]
  },
  {
   "cell_type": "code",
   "execution_count": 8,
   "id": "6477b9e1",
   "metadata": {
    "scrolled": true
   },
   "outputs": [
    {
     "name": "stdout",
     "output_type": "stream",
     "text": [
      "Функция >0 в диапозоне range(-10, -4)\n",
      "Функция <0 в диапозоне range(-4, -2)\n",
      "Функция >0 в диапозоне range(-2, 2)\n",
      "Функция <0 в диапозоне range(2, 4)\n",
      "Функция >0 в диапозоне range(4, 10)\n"
     ]
    }
   ],
   "source": [
    "d1 = range(-10,-4)# промежутки, на котором f > 0 и f < 0 \n",
    "d2 = range(-4,-2)\n",
    "d3 = range(-2,2)\n",
    "d4 = range(2,4)\n",
    "d5 = range(4,10)\n",
    "lis = [d1,d2,d3,d4,d5]\n",
    "for i in lis:\n",
    "    if f.evalf(subs={x:((i[0]+i[1])/2)}) > 0:\n",
    "        print(f'Функция >0 в диапозоне {i}')\n",
    "    else:\n",
    "        print(f'Функция <0 в диапозоне {i}')\n"
   ]
  },
  {
   "cell_type": "code",
   "execution_count": null,
   "id": "06d357e7",
   "metadata": {},
   "outputs": [],
   "source": []
  }
 ],
 "metadata": {
  "kernelspec": {
   "display_name": "Python 3 (ipykernel)",
   "language": "python",
   "name": "python3"
  },
  "language_info": {
   "codemirror_mode": {
    "name": "ipython",
    "version": 3
   },
   "file_extension": ".py",
   "mimetype": "text/x-python",
   "name": "python",
   "nbconvert_exporter": "python",
   "pygments_lexer": "ipython3",
   "version": "3.9.12"
  }
 },
 "nbformat": 4,
 "nbformat_minor": 5
}
